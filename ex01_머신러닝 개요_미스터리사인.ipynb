{
 "cells": [
  {
   "cell_type": "markdown",
   "id": "72d16271",
   "metadata": {},
   "source": [
    "## 미스터리 사인\n",
    "- 주어진 수를 보고 규칙을 찾는 문제"
   ]
  },
  {
   "cell_type": "markdown",
   "id": "48d85329",
   "metadata": {},
   "source": [
    "## Question 1\n",
    "- 큰수+두 수의 차\n",
    "- 22 ? 7 = 37"
   ]
  },
  {
   "cell_type": "markdown",
   "id": "6d8629de",
   "metadata": {},
   "source": [
    "### 데이터 만들기"
   ]
  },
  {
   "cell_type": "code",
   "execution_count": 1,
   "id": "b7d0faf8",
   "metadata": {},
   "outputs": [],
   "source": [
    "list1= []\n",
    "for i in range(1,200): # 첫 숫자의 범위\n",
    "    for j in range(1,200): # 두번째 숫자의 범위\n",
    "        result = (i+(i-j)) if i>j else (j+(j-i))\n",
    "        list1.append([i,j,result])"
   ]
  },
  {
   "cell_type": "markdown",
   "id": "8e427894",
   "metadata": {},
   "source": [
    "### 데이터 전처리"
   ]
  },
  {
   "cell_type": "code",
   "execution_count": 2,
   "id": "5756f7d4",
   "metadata": {
    "scrolled": true
   },
   "outputs": [
    {
     "data": {
      "text/html": [
       "<div>\n",
       "<style scoped>\n",
       "    .dataframe tbody tr th:only-of-type {\n",
       "        vertical-align: middle;\n",
       "    }\n",
       "\n",
       "    .dataframe tbody tr th {\n",
       "        vertical-align: top;\n",
       "    }\n",
       "\n",
       "    .dataframe thead th {\n",
       "        text-align: right;\n",
       "    }\n",
       "</style>\n",
       "<table border=\"1\" class=\"dataframe\">\n",
       "  <thead>\n",
       "    <tr style=\"text-align: right;\">\n",
       "      <th></th>\n",
       "      <th>N1</th>\n",
       "      <th>N2</th>\n",
       "      <th>Result</th>\n",
       "    </tr>\n",
       "  </thead>\n",
       "  <tbody>\n",
       "    <tr>\n",
       "      <th>0</th>\n",
       "      <td>1</td>\n",
       "      <td>1</td>\n",
       "      <td>1</td>\n",
       "    </tr>\n",
       "    <tr>\n",
       "      <th>1</th>\n",
       "      <td>1</td>\n",
       "      <td>2</td>\n",
       "      <td>3</td>\n",
       "    </tr>\n",
       "    <tr>\n",
       "      <th>2</th>\n",
       "      <td>1</td>\n",
       "      <td>3</td>\n",
       "      <td>5</td>\n",
       "    </tr>\n",
       "    <tr>\n",
       "      <th>3</th>\n",
       "      <td>1</td>\n",
       "      <td>4</td>\n",
       "      <td>7</td>\n",
       "    </tr>\n",
       "    <tr>\n",
       "      <th>4</th>\n",
       "      <td>1</td>\n",
       "      <td>5</td>\n",
       "      <td>9</td>\n",
       "    </tr>\n",
       "  </tbody>\n",
       "</table>\n",
       "</div>"
      ],
      "text/plain": [
       "   N1  N2  Result\n",
       "0   1   1       1\n",
       "1   1   2       3\n",
       "2   1   3       5\n",
       "3   1   4       7\n",
       "4   1   5       9"
      ]
     },
     "execution_count": 2,
     "metadata": {},
     "output_type": "execute_result"
    }
   ],
   "source": [
    "import pandas as pd\n",
    "data1 = pd.DataFrame(list1, columns = ['N1','N2','Result'])\n",
    "data1.head()"
   ]
  },
  {
   "cell_type": "markdown",
   "id": "3e2ce2dc",
   "metadata": {},
   "source": [
    "### 문제와 정답 분리\n",
    "- X : 문제\n",
    "- y : 정답"
   ]
  },
  {
   "cell_type": "code",
   "execution_count": 3,
   "id": "5b908d57",
   "metadata": {},
   "outputs": [],
   "source": [
    "X= data1.loc[ : ,['N1','N2']]\n",
    "y = data1.loc[ : ,'Result']"
   ]
  },
  {
   "cell_type": "markdown",
   "id": "225cf98e",
   "metadata": {},
   "source": [
    "### 머신러닝 모델 불러오기"
   ]
  },
  {
   "cell_type": "code",
   "execution_count": 4,
   "id": "4df79d57",
   "metadata": {},
   "outputs": [],
   "source": [
    "# 규칙을 찾는 역할\n",
    "from sklearn.ensemble import RandomForestRegressor"
   ]
  },
  {
   "cell_type": "code",
   "execution_count": 5,
   "id": "3ba02c68",
   "metadata": {},
   "outputs": [],
   "source": [
    "rf = RandomForestRegressor()"
   ]
  },
  {
   "cell_type": "markdown",
   "id": "466d47f5",
   "metadata": {},
   "source": [
    "###  모델 사용하기(학습)\n",
    "- 규칙 찾기"
   ]
  },
  {
   "cell_type": "code",
   "execution_count": 6,
   "id": "004eb521",
   "metadata": {},
   "outputs": [
    {
     "data": {
      "text/plain": [
       "RandomForestRegressor()"
      ]
     },
     "execution_count": 6,
     "metadata": {},
     "output_type": "execute_result"
    }
   ],
   "source": [
    "rf.fit(X,y)"
   ]
  },
  {
   "cell_type": "markdown",
   "id": "aaa168a9",
   "metadata": {},
   "source": [
    "### 모델 사용하기(예측)"
   ]
  },
  {
   "cell_type": "code",
   "execution_count": 7,
   "id": "21e235fd",
   "metadata": {},
   "outputs": [
    {
     "data": {
      "text/plain": [
       "array([37.1])"
      ]
     },
     "execution_count": 7,
     "metadata": {},
     "output_type": "execute_result"
    }
   ],
   "source": [
    "rf.predict([[22,7]])"
   ]
  },
  {
   "cell_type": "markdown",
   "id": "c9fc7e6c",
   "metadata": {},
   "source": [
    "## Question 2\n",
    "- (큰 수 / 작은수)의 나머지\n",
    "- 4 ? 19 = 3"
   ]
  },
  {
   "cell_type": "code",
   "execution_count": 20,
   "id": "77383727",
   "metadata": {},
   "outputs": [],
   "source": [
    "list2= []\n",
    "for i in range(1,200): # 첫 숫자의 범위\n",
    "    for j in range(1,200): # 두번째 숫자의 범위\n",
    "        result = (i%j) if i>j else (j%i)\n",
    "        list2.append([i,j,result])"
   ]
  },
  {
   "cell_type": "code",
   "execution_count": 21,
   "id": "846ce6a3",
   "metadata": {},
   "outputs": [
    {
     "data": {
      "text/html": [
       "<div>\n",
       "<style scoped>\n",
       "    .dataframe tbody tr th:only-of-type {\n",
       "        vertical-align: middle;\n",
       "    }\n",
       "\n",
       "    .dataframe tbody tr th {\n",
       "        vertical-align: top;\n",
       "    }\n",
       "\n",
       "    .dataframe thead th {\n",
       "        text-align: right;\n",
       "    }\n",
       "</style>\n",
       "<table border=\"1\" class=\"dataframe\">\n",
       "  <thead>\n",
       "    <tr style=\"text-align: right;\">\n",
       "      <th></th>\n",
       "      <th>N1</th>\n",
       "      <th>N2</th>\n",
       "      <th>Result</th>\n",
       "    </tr>\n",
       "  </thead>\n",
       "  <tbody>\n",
       "    <tr>\n",
       "      <th>0</th>\n",
       "      <td>1</td>\n",
       "      <td>1</td>\n",
       "      <td>0</td>\n",
       "    </tr>\n",
       "    <tr>\n",
       "      <th>1</th>\n",
       "      <td>1</td>\n",
       "      <td>2</td>\n",
       "      <td>0</td>\n",
       "    </tr>\n",
       "    <tr>\n",
       "      <th>2</th>\n",
       "      <td>1</td>\n",
       "      <td>3</td>\n",
       "      <td>0</td>\n",
       "    </tr>\n",
       "    <tr>\n",
       "      <th>3</th>\n",
       "      <td>1</td>\n",
       "      <td>4</td>\n",
       "      <td>0</td>\n",
       "    </tr>\n",
       "    <tr>\n",
       "      <th>4</th>\n",
       "      <td>1</td>\n",
       "      <td>5</td>\n",
       "      <td>0</td>\n",
       "    </tr>\n",
       "  </tbody>\n",
       "</table>\n",
       "</div>"
      ],
      "text/plain": [
       "   N1  N2  Result\n",
       "0   1   1       0\n",
       "1   1   2       0\n",
       "2   1   3       0\n",
       "3   1   4       0\n",
       "4   1   5       0"
      ]
     },
     "execution_count": 21,
     "metadata": {},
     "output_type": "execute_result"
    }
   ],
   "source": [
    "data2 = pd.DataFrame(list2, columns = ['N1','N2','Result'])\n",
    "data2.head()"
   ]
  },
  {
   "cell_type": "code",
   "execution_count": 22,
   "id": "e19bc71a",
   "metadata": {},
   "outputs": [],
   "source": [
    "x= data2.loc[ : ,['N1','N2']]\n",
    "Y = data2.loc[ : ,'Result']"
   ]
  },
  {
   "cell_type": "code",
   "execution_count": 23,
   "id": "34823bda",
   "metadata": {},
   "outputs": [],
   "source": [
    "rf = RandomForestRegressor()"
   ]
  },
  {
   "cell_type": "code",
   "execution_count": 24,
   "id": "aa7261e1",
   "metadata": {},
   "outputs": [
    {
     "data": {
      "text/plain": [
       "RandomForestRegressor()"
      ]
     },
     "execution_count": 24,
     "metadata": {},
     "output_type": "execute_result"
    }
   ],
   "source": [
    "rf.fit(x,Y)"
   ]
  },
  {
   "cell_type": "code",
   "execution_count": 29,
   "id": "49b05cbb",
   "metadata": {},
   "outputs": [
    {
     "data": {
      "text/plain": [
       "array([2.45])"
      ]
     },
     "execution_count": 29,
     "metadata": {},
     "output_type": "execute_result"
    }
   ],
   "source": [
    "rf.predict([[4,19]])"
   ]
  }
 ],
 "metadata": {
  "kernelspec": {
   "display_name": "Python 3 (ipykernel)",
   "language": "python",
   "name": "python3"
  },
  "language_info": {
   "codemirror_mode": {
    "name": "ipython",
    "version": 3
   },
   "file_extension": ".py",
   "mimetype": "text/x-python",
   "name": "python",
   "nbconvert_exporter": "python",
   "pygments_lexer": "ipython3",
   "version": "3.9.7"
  },
  "toc": {
   "base_numbering": 1,
   "nav_menu": {},
   "number_sections": true,
   "sideBar": true,
   "skip_h1_title": false,
   "title_cell": "Table of Contents",
   "title_sidebar": "Contents",
   "toc_cell": false,
   "toc_position": {
    "height": "calc(100% - 180px)",
    "left": "10px",
    "top": "150px",
    "width": "165px"
   },
   "toc_section_display": true,
   "toc_window_display": true
  }
 },
 "nbformat": 4,
 "nbformat_minor": 5
}
